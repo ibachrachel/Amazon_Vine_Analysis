{
  "nbformat": 4,
  "nbformat_minor": 0,
  "metadata": {
    "colab": {
      "name": "Amazon_Vine_Analysis.ipynb",
      "provenance": []
    },
    "kernelspec": {
      "name": "python3",
      "display_name": "Python 3"
    },
    "language_info": {
      "name": "python"
    }
  },
  "cells": [
    {
      "cell_type": "code",
      "execution_count": 1,
      "metadata": {
        "colab": {
          "base_uri": "https://localhost:8080/"
        },
        "id": "qxMQ_JgrfbNU",
        "outputId": "d2aba3bc-ff23-4145-c68f-d1e0b114c4bf"
      },
      "outputs": [
        {
          "output_type": "stream",
          "name": "stdout",
          "text": [
            "\r0% [Working]\r            \rGet:1 http://security.ubuntu.com/ubuntu bionic-security InRelease [88.7 kB]\n",
            "Get:2 https://cloud.r-project.org/bin/linux/ubuntu bionic-cran40/ InRelease [3,626 B]\n",
            "Hit:3 http://ppa.launchpad.net/c2d4u.team/c2d4u4.0+/ubuntu bionic InRelease\n",
            "Hit:4 http://archive.ubuntu.com/ubuntu bionic InRelease\n",
            "Ign:5 https://developer.download.nvidia.com/compute/machine-learning/repos/ubuntu1804/x86_64  InRelease\n",
            "Get:6 http://archive.ubuntu.com/ubuntu bionic-updates InRelease [88.7 kB]\n",
            "Get:7 https://developer.download.nvidia.com/compute/cuda/repos/ubuntu1804/x86_64  InRelease [1,581 B]\n",
            "Hit:8 http://ppa.launchpad.net/cran/libgit2/ubuntu bionic InRelease\n",
            "Hit:9 https://developer.download.nvidia.com/compute/machine-learning/repos/ubuntu1804/x86_64  Release\n",
            "Hit:10 http://ppa.launchpad.net/deadsnakes/ppa/ubuntu bionic InRelease\n",
            "Get:11 http://archive.ubuntu.com/ubuntu bionic-backports InRelease [74.6 kB]\n",
            "Hit:12 http://ppa.launchpad.net/graphics-drivers/ppa/ubuntu bionic InRelease\n",
            "Get:13 http://security.ubuntu.com/ubuntu bionic-security/universe amd64 Packages [1,528 kB]\n",
            "Get:14 http://security.ubuntu.com/ubuntu bionic-security/main amd64 Packages [2,905 kB]\n",
            "Get:15 https://developer.download.nvidia.com/compute/cuda/repos/ubuntu1804/x86_64  Packages [902 kB]\n",
            "Get:17 http://archive.ubuntu.com/ubuntu bionic-updates/universe amd64 Packages [2,306 kB]\n",
            "Get:18 http://archive.ubuntu.com/ubuntu bionic-updates/main amd64 Packages [3,336 kB]\n",
            "Fetched 11.2 MB in 7s (1,633 kB/s)\n",
            "Reading package lists... Done\n"
          ]
        }
      ],
      "source": [
        "# import dependencies (like any other project)\n",
        "\n",
        "import os\n",
        "# Find the latest version of spark 3.0 from http://www.apache.org/dist/spark/ and enter as the spark version\n",
        "# For example:\n",
        "# spark_version = 'spark-3.0.3'\n",
        "spark_version = 'spark-3.0.3'\n",
        "os.environ['SPARK_VERSION']=spark_version\n",
        "\n",
        "# Install Spark and Java\n",
        "!apt-get update\n",
        "!apt-get install openjdk-11-jdk-headless -qq > /dev/null\n",
        "!wget -q http://www.apache.org/dist/spark/$SPARK_VERSION/$SPARK_VERSION-bin-hadoop2.7.tgz\n",
        "!tar xf $SPARK_VERSION-bin-hadoop2.7.tgz\n",
        "!pip install -q findspark\n",
        "\n",
        "# Set Environment Variables\n",
        "import os\n",
        "os.environ[\"JAVA_HOME\"] = \"/usr/lib/jvm/java-11-openjdk-amd64\"\n",
        "os.environ[\"SPARK_HOME\"] = f\"/content/{spark_version}-bin-hadoop2.7\"\n",
        "\n",
        "# Start a SparkSession\n",
        "import findspark\n",
        "findspark.init()"
      ]
    },
    {
      "cell_type": "code",
      "source": [
        "from pyspark.sql import SparkSession\n",
        "spark = SparkSession.builder.appName(\"Vine_Review_Analysis\").config(\"spark.driver.extraClassPath\",\"/content/postgresql-42.2.16.jar\").getOrCreate()"
      ],
      "metadata": {
        "id": "ftRWcj5Oj7jP"
      },
      "execution_count": 2,
      "outputs": []
    },
    {
      "cell_type": "code",
      "source": [
        "from pyspark import SparkFiles\n",
        "url = \"https://s3.amazonaws.com/amazon-reviews-pds/tsv/amazon_reviews_us_Wireless_v1_00.tsv.gz\"\n",
        "spark.sparkContext.addFile(url)\n",
        "df = spark.read.option(\"encoding\", \"UTF-8\").csv(SparkFiles.get(\"\"), sep=\"\\t\", header=True, inferSchema=True)\n",
        "df.show(5)"
      ],
      "metadata": {
        "id": "_XK1aJHmj-aM",
        "colab": {
          "base_uri": "https://localhost:8080/"
        },
        "outputId": "630d81f1-f7b1-40af-a297-4a94c8fcf034"
      },
      "execution_count": 3,
      "outputs": [
        {
          "output_type": "stream",
          "name": "stdout",
          "text": [
            "+-----------+-----------+--------------+----------+--------------+--------------------+----------------+-----------+-------------+-----------+----+-----------------+--------------------+--------------------+-----------+\n",
            "|marketplace|customer_id|     review_id|product_id|product_parent|       product_title|product_category|star_rating|helpful_votes|total_votes|vine|verified_purchase|     review_headline|         review_body|review_date|\n",
            "+-----------+-----------+--------------+----------+--------------+--------------------+----------------+-----------+-------------+-----------+----+-----------------+--------------------+--------------------+-----------+\n",
            "|         US|   16414143|R3W4P9UBGNGH1U|B00YL0EKWE|     852431543|LG G4 Case Hard T...|        Wireless|          2|            1|          3|   N|                Y|Looks good, funct...|2 issues  -  Once...| 2015-08-31|\n",
            "|         US|   50800750|R15V54KBMTQWAY|B00XK95RPQ|     516894650|Selfie Stick Fibl...|        Wireless|          4|            0|          0|   N|                N| A fun little gadget|I’m embarrassed t...| 2015-08-31|\n",
            "|         US|   15184378| RY8I449HNXSVF|B00SXRXUKO|     984297154|Tribe AB40 Water ...|        Wireless|          5|            0|          0|   N|                Y|          Five Stars|  Fits iPhone 6 well| 2015-08-31|\n",
            "|         US|   10203548|R18TLJYCKJFLSR|B009V5X1CE|     279912704|RAVPower® Element...|        Wireless|          5|            0|          0|   N|                Y|       Great charger|Great charger.  I...| 2015-08-31|\n",
            "|         US|     488280|R1NK26SWS53B8Q|B00D93OVF0|     662791300|Fosmon Micro USB ...|        Wireless|          5|            0|          0|   N|                Y|          Five Stars|Great for the pri...| 2015-08-31|\n",
            "+-----------+-----------+--------------+----------+--------------+--------------------+----------------+-----------+-------------+-----------+----+-----------------+--------------------+--------------------+-----------+\n",
            "only showing top 5 rows\n",
            "\n"
          ]
        }
      ]
    },
    {
      "cell_type": "code",
      "source": [
        "# Create the vine_table. DataFrame\n",
        "vine_df = df.select([\"review_id\", \"star_rating\", \"helpful_votes\", \"total_votes\", \"vine\", \"verified_purchase\"])\n",
        "vine_df.show(5)"
      ],
      "metadata": {
        "id": "FkkaD4ehk6zm",
        "colab": {
          "base_uri": "https://localhost:8080/"
        },
        "outputId": "19f4d12a-6a2b-4d59-80d2-6dc34fa1ed1f"
      },
      "execution_count": 4,
      "outputs": [
        {
          "output_type": "stream",
          "name": "stdout",
          "text": [
            "+--------------+-----------+-------------+-----------+----+-----------------+\n",
            "|     review_id|star_rating|helpful_votes|total_votes|vine|verified_purchase|\n",
            "+--------------+-----------+-------------+-----------+----+-----------------+\n",
            "|R3W4P9UBGNGH1U|          2|            1|          3|   N|                Y|\n",
            "|R15V54KBMTQWAY|          4|            0|          0|   N|                N|\n",
            "| RY8I449HNXSVF|          5|            0|          0|   N|                Y|\n",
            "|R18TLJYCKJFLSR|          5|            0|          0|   N|                Y|\n",
            "|R1NK26SWS53B8Q|          5|            0|          0|   N|                Y|\n",
            "+--------------+-----------+-------------+-----------+----+-----------------+\n",
            "only showing top 5 rows\n",
            "\n"
          ]
        }
      ]
    },
    {
      "cell_type": "code",
      "source": [
        "# STEP 1:  Filter the data and create a new DataFrame or table to retrieve all the rows where the total_votes count is equal to or greater than 20 \n",
        "# to pick reviews that are more likely to be helpful and to avoid having division by zero errors later on.\n",
        "total_votes20 = vine_df.filter(\"total_votes >=20\")\n",
        "total_votes20.show(5)"
      ],
      "metadata": {
        "id": "GPBrP3F8k8uY",
        "colab": {
          "base_uri": "https://localhost:8080/"
        },
        "outputId": "c5a55f33-b5f3-4b1a-c24f-4848cfb64485"
      },
      "execution_count": 5,
      "outputs": [
        {
          "output_type": "stream",
          "name": "stdout",
          "text": [
            "+--------------+-----------+-------------+-----------+----+-----------------+\n",
            "|     review_id|star_rating|helpful_votes|total_votes|vine|verified_purchase|\n",
            "+--------------+-----------+-------------+-----------+----+-----------------+\n",
            "|R2WOW0TURNXB26|          3|           54|         59|   N|                Y|\n",
            "|R13VL62Y2HBQ0B|          5|           15|         21|   N|                Y|\n",
            "|R22G55KAPZKJQV|          4|           20|         21|   N|                Y|\n",
            "|R1610PGTJS7G3N|          2|           28|         44|   N|                Y|\n",
            "| RLQL04BL0QXOJ|          4|           45|         47|   N|                Y|\n",
            "+--------------+-----------+-------------+-----------+----+-----------------+\n",
            "only showing top 5 rows\n",
            "\n"
          ]
        }
      ]
    },
    {
      "cell_type": "code",
      "source": [
        "# STEP 2 : Filter the new DataFrame or table created in Step 1 and create a new DataFrame or table to retrieve all the rows where the number of helpful_votes divided by total_votes is equal to or greater than 50%.\n",
        "# helpful_votes_pct = total_votes20.filter(\"(helpful_votes/total_votes)*100 >= 50\")\n",
        "helpful_votes_pct = total_votes20.filter(\"(helpful_votes/total_votes) >= 0.5\")\n",
        "helpful_votes_pct.show(5)"
      ],
      "metadata": {
        "id": "rHOZaIjOk-O9",
        "colab": {
          "base_uri": "https://localhost:8080/"
        },
        "outputId": "0bf22925-78e6-4c2b-a112-df0891d920d1"
      },
      "execution_count": 6,
      "outputs": [
        {
          "output_type": "stream",
          "name": "stdout",
          "text": [
            "+--------------+-----------+-------------+-----------+----+-----------------+\n",
            "|     review_id|star_rating|helpful_votes|total_votes|vine|verified_purchase|\n",
            "+--------------+-----------+-------------+-----------+----+-----------------+\n",
            "|R2WOW0TURNXB26|          3|           54|         59|   N|                Y|\n",
            "|R13VL62Y2HBQ0B|          5|           15|         21|   N|                Y|\n",
            "|R22G55KAPZKJQV|          4|           20|         21|   N|                Y|\n",
            "|R1610PGTJS7G3N|          2|           28|         44|   N|                Y|\n",
            "| RLQL04BL0QXOJ|          4|           45|         47|   N|                Y|\n",
            "+--------------+-----------+-------------+-----------+----+-----------------+\n",
            "only showing top 5 rows\n",
            "\n"
          ]
        }
      ]
    },
    {
      "cell_type": "code",
      "source": [
        "# STEP 3 :Filter the DataFrame or table created in Step 2, and create a new DataFrame or table that retrieves all the rows where a review was written as part of the Vine program (paid), vine == 'Y'.\n",
        "vineY = helpful_votes_pct.filter(helpful_votes_pct[\"vine\"] == 'Y')\n",
        "vineY.show(5)"
      ],
      "metadata": {
        "id": "cSwzxTDUlAJx",
        "colab": {
          "base_uri": "https://localhost:8080/"
        },
        "outputId": "3fe449d0-5c3c-4c85-add3-cf7bfe3996f6"
      },
      "execution_count": 7,
      "outputs": [
        {
          "output_type": "stream",
          "name": "stdout",
          "text": [
            "+--------------+-----------+-------------+-----------+----+-----------------+\n",
            "|     review_id|star_rating|helpful_votes|total_votes|vine|verified_purchase|\n",
            "+--------------+-----------+-------------+-----------+----+-----------------+\n",
            "|R1MAOLI5FJHAFM|          4|          249|        261|   Y|                N|\n",
            "| R9PYAUDIBJVEC|          4|           12|         22|   Y|                N|\n",
            "| R6V9SHMMG5M8F|          5|          101|        110|   Y|                N|\n",
            "|R37PVLT6ELL5J4|          4|          181|        209|   Y|                N|\n",
            "| R2FSFGWZF24V9|          4|           50|         51|   Y|                N|\n",
            "+--------------+-----------+-------------+-----------+----+-----------------+\n",
            "only showing top 5 rows\n",
            "\n"
          ]
        }
      ]
    },
    {
      "cell_type": "code",
      "source": [
        "# STEP 4 : Repeat Step 3, but this time retrieve all the rows where the review was not part of the Vine program (unpaid), vine == 'N'.\n",
        "vineN = helpful_votes_pct.filter(helpful_votes_pct[\"vine\"] == 'N')\n",
        "vineN.show(5)"
      ],
      "metadata": {
        "id": "7TMPCq7HlBXG",
        "colab": {
          "base_uri": "https://localhost:8080/"
        },
        "outputId": "7bc05151-0570-43eb-90ed-182a78dde693"
      },
      "execution_count": 8,
      "outputs": [
        {
          "output_type": "stream",
          "name": "stdout",
          "text": [
            "+--------------+-----------+-------------+-----------+----+-----------------+\n",
            "|     review_id|star_rating|helpful_votes|total_votes|vine|verified_purchase|\n",
            "+--------------+-----------+-------------+-----------+----+-----------------+\n",
            "|R2WOW0TURNXB26|          3|           54|         59|   N|                Y|\n",
            "|R13VL62Y2HBQ0B|          5|           15|         21|   N|                Y|\n",
            "|R22G55KAPZKJQV|          4|           20|         21|   N|                Y|\n",
            "|R1610PGTJS7G3N|          2|           28|         44|   N|                Y|\n",
            "| RLQL04BL0QXOJ|          4|           45|         47|   N|                Y|\n",
            "+--------------+-----------+-------------+-----------+----+-----------------+\n",
            "only showing top 5 rows\n",
            "\n"
          ]
        }
      ]
    },
    {
      "cell_type": "code",
      "source": [
        "# STEP 5 (i) Determine the total number of reviews\n",
        "total_reviews = vine_df.count()\n",
        "print(f\"There are {total_reviews} total reivews\")\n",
        "\n",
        "# STEP 5 (ii) the number of 5-star reviews\n",
        "star5_reviews = vine_df.filter(\"star_rating = 5\").count()\n",
        "print(f\"There are {star5_reviews} 5-star reviews\")\n",
        "print(f\"-----------------------------------------------------------------------------\")\n",
        "\n",
        "# STEP 5 (iii) % of 5-star reviews with vine == 'Y'\n",
        "total_vineY_reviews = vine_df.filter(vine_df.vine == 'Y').count()\n",
        "star5_vineY_reviews = vine_df.filter((vine_df.vine == 'Y')&(vine_df.star_rating == 5))\n",
        "count_paid_5star = star5_vineY_reviews.count()\n",
        "count_paid_5star_pct= round((count_paid_5star/total_reviews),2)*100 \n",
        "print(f\"There are total {total_vineY_reviews} vine (vine = Y) reviews\")\n",
        "print(f\"There are {count_paid_5star},Five-star vine (vine = Y) reviews\")\n",
        "print(f\"There are {count_paid_5star_pct} % 5-star vine (vine = Y) reviews\")\n",
        "print(f\"-----------------------------------------------------------------------------\")\n",
        "\n",
        "# STEP 5 (iv) % of 5-star reviews with vine == 'N'\n",
        "total_vineN_reviews = vine_df.filter(vine_df.vine == 'N').count()\n",
        "star5_vineN_reviews = vine_df.filter((vine_df.vine == 'N')&(vine_df.star_rating == 5))\n",
        "count_unpaid_5star = star5_vineN_reviews.count()\n",
        "count_unpaid_5star_pct= round((count_unpaid_5star/total_vineN_reviews),2)*100 \n",
        "print(f\"There are total {total_vineN_reviews} non-vine (vine = N) reviews\")\n",
        "print(f\"There are {count_unpaid_5star} 5-star non-vine (vine = N) reviews\")\n",
        "print(f\"There are {count_unpaid_5star_pct} % 5-star non-vine (vine = N) reviews\")\n",
        "print(f\"-----------------------------------------------------------------------------\")\n"
      ],
      "metadata": {
        "id": "1l_KsD5klC3m",
        "colab": {
          "base_uri": "https://localhost:8080/"
        },
        "outputId": "ffdea625-8a85-48c7-a7e1-557827ef8ac4"
      },
      "execution_count": 9,
      "outputs": [
        {
          "output_type": "stream",
          "name": "stdout",
          "text": [
            "There are 9002021 total reivews\n",
            "There are 4824725 5-star reviews\n",
            "-----------------------------------------------------------------------------\n",
            "There are total 17481 vine (vine = Y) reviews\n",
            "There are 6522,Five-star vine (vine = Y) reviews\n",
            "There are 0.0 % 5-star vine (vine = Y) reviews\n",
            "-----------------------------------------------------------------------------\n",
            "There are total 8984400 non-vine (vine = N) reviews\n",
            "There are 4818203 5-star non-vine (vine = N) reviews\n",
            "There are 54.0 % 5-star non-vine (vine = N) reviews\n",
            "-----------------------------------------------------------------------------\n"
          ]
        }
      ]
    }
  ]
}